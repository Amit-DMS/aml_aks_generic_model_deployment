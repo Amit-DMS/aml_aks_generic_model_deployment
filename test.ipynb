{
 "cells": [
  {
   "cell_type": "markdown",
   "metadata": {},
   "source": [
    "MIT License\n",
    "\n",
    "Copyright (c) 2021 HZ-MS-CSA\n",
    "\n",
    "Permission is hereby granted, free of charge, to any person obtaining a copy\n",
    "of this software and associated documentation files (the \"Software\"), to deal\n",
    "in the Software without restriction, including without limitation the rights\n",
    "to use, copy, modify, merge, publish, distribute, sublicense, and/or sell\n",
    "copies of the Software, and to permit persons to whom the Software is\n",
    "furnished to do so, subject to the following conditions:\n",
    "\n",
    "The above copyright notice and this permission notice shall be included in all\n",
    "copies or substantial portions of the Software.\n",
    "\n",
    "THE SOFTWARE IS PROVIDED \"AS IS\", WITHOUT WARRANTY OF ANY KIND, EXPRESS OR\n",
    "IMPLIED, INCLUDING BUT NOT LIMITED TO THE WARRANTIES OF MERCHANTABILITY,\n",
    "FITNESS FOR A PARTICULAR PURPOSE AND NONINFRINGEMENT. IN NO EVENT SHALL THE\n",
    "AUTHORS OR COPYRIGHT HOLDERS BE LIABLE FOR ANY CLAIM, DAMAGES OR OTHER\n",
    "LIABILITY, WHETHER IN AN ACTION OF CONTRACT, TORT OR OTHERWISE, ARISING FROM,\n",
    "OUT OF OR IN CONNECTION WITH THE SOFTWARE OR THE USE OR OTHER DEALINGS IN THE\n",
    "SOFTWARE."
   ]
  },
  {
   "cell_type": "code",
   "execution_count": null,
   "metadata": {
    "ExecuteTime": {
     "end_time": "2021-04-13T00:12:02.459717Z",
     "start_time": "2021-04-13T00:12:01.983665Z"
    }
   },
   "outputs": [],
   "source": [
    "import pandas as pd"
   ]
  },
  {
   "cell_type": "code",
   "execution_count": 4,
   "metadata": {
    "ExecuteTime": {
     "end_time": "2021-04-13T00:12:06.972137Z",
     "start_time": "2021-04-13T00:12:06.969488Z"
    }
   },
   "outputs": [],
   "source": [
    "endpoint = 'http://52.143.75.111:80/score'"
   ]
  },
  {
   "cell_type": "markdown",
   "metadata": {},
   "source": [
    "### Get"
   ]
  },
  {
   "cell_type": "code",
   "execution_count": 3,
   "metadata": {
    "ExecuteTime": {
     "end_time": "2021-04-13T00:12:03.659985Z",
     "start_time": "2021-04-13T00:12:03.456214Z"
    }
   },
   "outputs": [
    {
     "name": "stdout",
     "output_type": "stream",
     "text": [
      "GET to url http://52.143.75.111:80/healthcheck\n",
      "{'HealthStatus': 'Okay', 'WorkspaceDetails': '{\"id\": \"/subscriptions/8401da89-6ce7-4e33-9710-cffff588afc3/resourceGroups/hzds/providers/Microsoft.MachineLearningServices/workspaces/hzdsmlworkspace\", \"name\": \"hzdsmlworkspace\", \"identity\": {\"principal_id\": \"7404f56c-4aea-4afc-aad3-521e9c30d91e\", \"tenant_id\": \"72f988bf-86f1-41af-91ab-2d7cd011db47\", \"type\": \"SystemAssigned\"}, \"location\": \"westus2\", \"type\": \"Microsoft.MachineLearningServices/workspaces\", \"tags\": {}, \"sku\": \"Basic\", \"workspaceid\": \"8ffa637c-eee5-4ad1-826b-b89b6db4bdb1\", \"sdkTelemetryAppInsightsKey\": \"19f24253-9564-406c-9a1e-a48a21b145aa\", \"description\": \"\", \"friendlyName\": \"\", \"creationTime\": \"2020-07-24T16:29:36.7304256+00:00\", \"containerRegistry\": \"/subscriptions/8401da89-6ce7-4e33-9710-cffff588afc3/resourceGroups/hzds/providers/Microsoft.ContainerRegistry/registries/8ffa637ceee54ad1826bb89b6db4bdb1\", \"keyVault\": \"/subscriptions/8401da89-6ce7-4e33-9710-cffff588afc3/resourcegroups/hzds/providers/microsoft.keyvault/vaults/hzdsmlworkspac6648583311\", \"applicationInsights\": \"/subscriptions/8401da89-6ce7-4e33-9710-cffff588afc3/resourcegroups/hzds/providers/microsoft.insights/components/hzdsmlworkspac1736544489\", \"storageAccount\": \"/subscriptions/8401da89-6ce7-4e33-9710-cffff588afc3/resourcegroups/hzds/providers/microsoft.storage/storageaccounts/hzdsmlworkspac8799155734\", \"hbiWorkspace\": false, \"allowPublicAccessWhenBehindVnet\": false, \"provisioningState\": \"Succeeded\", \"imageBuildCompute\": \"\", \"discoveryUrl\": \"https://westus2.experiments.azureml.net/discovery\", \"notebookInfo\": {\"fqdn\": \"ml-hzdsmlworkspace-westus2-8ffa637c-eee5-4ad1-826b-b89b6db4bdb1.notebooks.azure.net\", \"resource_id\": \"3a4bc97c5e7b4f9690225c1da1be76da\"}}'}\n"
     ]
    }
   ],
   "source": [
    "import requests\n",
    "import json\n",
    "\n",
    "# Send request to service\n",
    "print(\"GET to url\", endpoint)\n",
    "payload={}\n",
    "headers = {}\n",
    "resp = requests.request(\"GET\", endpoint, headers=headers, data=payload)\n",
    "\n",
    "result = json.loads(resp.text)\n",
    "print(result)"
   ]
  },
  {
   "cell_type": "markdown",
   "metadata": {},
   "source": [
    "### Post"
   ]
  },
  {
   "cell_type": "code",
   "execution_count": 6,
   "metadata": {
    "ExecuteTime": {
     "end_time": "2021-04-13T00:16:27.482414Z",
     "start_time": "2021-04-13T00:16:22.527398Z"
    }
   },
   "outputs": [
    {
     "name": "stdout",
     "output_type": "stream",
     "text": [
      "POST to url http://52.143.75.111:80/score\n",
      "{'results': 0}\n"
     ]
    }
   ],
   "source": [
    "import requests\n",
    "import json\n",
    "\n",
    "print(\"POST to url\", endpoint)\n",
    "\n",
    "payload = {'data':'My house is on fire'}\n",
    "\n",
    "headers = {'Content-Type':'application/json'}\n",
    "params = {'model_name': 'claim_classifier_onnx_demo'}\n",
    "resp = requests.request(\"POST\", endpoint, headers=headers, json=payload, params = params)\n",
    "\n",
    "result = json.loads(resp.text)\n",
    "print(result)"
   ]
  },
  {
   "cell_type": "code",
   "execution_count": null,
   "metadata": {},
   "outputs": [],
   "source": []
  }
 ],
 "metadata": {
  "kernelspec": {
   "display_name": "hzfairlearn",
   "language": "python",
   "name": "hzfairlearn"
  },
  "language_info": {
   "codemirror_mode": {
    "name": "ipython",
    "version": 3
   },
   "file_extension": ".py",
   "mimetype": "text/x-python",
   "name": "python",
   "nbconvert_exporter": "python",
   "pygments_lexer": "ipython3",
   "version": "3.6.10"
  },
  "toc": {
   "base_numbering": 1,
   "nav_menu": {},
   "number_sections": true,
   "sideBar": true,
   "skip_h1_title": false,
   "title_cell": "Table of Contents",
   "title_sidebar": "Contents",
   "toc_cell": false,
   "toc_position": {},
   "toc_section_display": true,
   "toc_window_display": false
  }
 },
 "nbformat": 4,
 "nbformat_minor": 4
}
