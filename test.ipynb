{
 "cells": [
  {
   "cell_type": "code",
   "execution_count": null,
   "metadata": {
    "ExecuteTime": {
     "end_time": "2021-03-18T23:10:02.507349Z",
     "start_time": "2021-03-18T23:10:02.088677Z"
    }
   },
   "outputs": [],
   "source": [
    "import pandas as pd"
   ]
  },
  {
   "cell_type": "code",
   "execution_count": null,
   "metadata": {
    "ExecuteTime": {
     "end_time": "2021-03-18T23:10:37.658874Z",
     "start_time": "2021-03-18T23:10:37.655228Z"
    }
   },
   "outputs": [],
   "source": [
    "endpoint = 'http://127.0.0.1:5000/score'"
   ]
  },
  {
   "cell_type": "markdown",
   "metadata": {},
   "source": [
    "### Get"
   ]
  },
  {
   "cell_type": "code",
   "execution_count": null,
   "metadata": {
    "ExecuteTime": {
     "end_time": "2021-03-18T23:10:31.734809Z",
     "start_time": "2021-03-18T23:10:31.496942Z"
    }
   },
   "outputs": [],
   "source": [
    "import requests\n",
    "import json\n",
    "\n",
    "# Send request to service\n",
    "print(\"GET to url\", endpoint)\n",
    "payload={}\n",
    "headers = {}\n",
    "resp = requests.request(\"GET\", endpoint, headers=headers, data=payload)\n",
    "\n",
    "result = json.loads(resp.text)\n",
    "print(result)"
   ]
  },
  {
   "cell_type": "markdown",
   "metadata": {},
   "source": [
    "### Post"
   ]
  },
  {
   "cell_type": "code",
   "execution_count": null,
   "metadata": {
    "ExecuteTime": {
     "end_time": "2021-03-18T23:10:41.120929Z",
     "start_time": "2021-03-18T23:10:41.083099Z"
    }
   },
   "outputs": [],
   "source": [
    "data = pd.read_csv('./raw_data.csv')"
   ]
  },
  {
   "cell_type": "code",
   "execution_count": null,
   "metadata": {
    "ExecuteTime": {
     "end_time": "2021-03-18T23:11:40.707743Z",
     "start_time": "2021-03-18T23:11:40.032205Z"
    }
   },
   "outputs": [],
   "source": [
    "import requests\n",
    "import json\n",
    "\n",
    "print(\"POST to url\", endpoint)\n",
    "\n",
    "payload = {'data':data.to_json(orient='records')}\n",
    "\n",
    "headers = {'Content-Type':'application/json'}\n",
    "params = {'model_name': 'MODEL_NAME'}\n",
    "resp = requests.request(\"POST\", endpoint, headers=headers, json=payload, params = params)\n",
    "\n",
    "result = json.loads(resp.text)\n",
    "print(result)"
   ]
  },
  {
   "cell_type": "code",
   "execution_count": null,
   "metadata": {},
   "outputs": [],
   "source": []
  }
 ],
 "metadata": {
  "kernelspec": {
   "display_name": "hzfairlearn",
   "language": "python",
   "name": "hzfairlearn"
  },
  "language_info": {
   "codemirror_mode": {
    "name": "ipython",
    "version": 3
   },
   "file_extension": ".py",
   "mimetype": "text/x-python",
   "name": "python",
   "nbconvert_exporter": "python",
   "pygments_lexer": "ipython3",
   "version": "3.6.10"
  },
  "toc": {
   "base_numbering": 1,
   "nav_menu": {},
   "number_sections": true,
   "sideBar": true,
   "skip_h1_title": false,
   "title_cell": "Table of Contents",
   "title_sidebar": "Contents",
   "toc_cell": false,
   "toc_position": {},
   "toc_section_display": true,
   "toc_window_display": false
  }
 },
 "nbformat": 4,
 "nbformat_minor": 4
}
