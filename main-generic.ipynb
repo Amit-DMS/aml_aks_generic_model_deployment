{
 "cells": [
  {
   "cell_type": "code",
   "execution_count": null,
   "metadata": {},
   "outputs": [],
   "source": [
    "# MIT License\n",
    "\n",
    "# Copyright (c) 2021 HZ-MS-CSA\n",
    "\n",
    "# Permission is hereby granted, free of charge, to any person obtaining a copy\n",
    "# of this software and associated documentation files (the \"Software\"), to deal\n",
    "# in the Software without restriction, including without limitation the rights\n",
    "# to use, copy, modify, merge, publish, distribute, sublicense, and/or sell\n",
    "# copies of the Software, and to permit persons to whom the Software is\n",
    "# furnished to do so, subject to the following conditions:\n",
    "\n",
    "# The above copyright notice and this permission notice shall be included in all\n",
    "# copies or substantial portions of the Software.\n",
    "\n",
    "# THE SOFTWARE IS PROVIDED \"AS IS\", WITHOUT WARRANTY OF ANY KIND, EXPRESS OR\n",
    "# IMPLIED, INCLUDING BUT NOT LIMITED TO THE WARRANTIES OF MERCHANTABILITY,\n",
    "# FITNESS FOR A PARTICULAR PURPOSE AND NONINFRINGEMENT. IN NO EVENT SHALL THE\n",
    "# AUTHORS OR COPYRIGHT HOLDERS BE LIABLE FOR ANY CLAIM, DAMAGES OR OTHER\n",
    "# LIABILITY, WHETHER IN AN ACTION OF CONTRACT, TORT OR OTHERWISE, ARISING FROM,\n",
    "# OUT OF OR IN CONNECTION WITH THE SOFTWARE OR THE USE OR OTHER DEALINGS IN THE\n",
    "# SOFTWARE."
   ]
  },
  {
   "cell_type": "markdown",
   "metadata": {},
   "source": [
    "### Model Scoring"
   ]
  },
  {
   "cell_type": "code",
   "execution_count": null,
   "metadata": {
    "ExecuteTime": {
     "end_time": "2021-03-18T17:17:09.649626Z",
     "start_time": "2021-03-18T17:17:02.169967Z"
    }
   },
   "outputs": [],
   "source": [
    "import json\n",
    "import numpy as np\n",
    "import pandas as pd\n",
    "import os\n",
    "import pickle\n",
    "import joblib\n",
    "import os\n",
    "from sklearn.linear_model import LogisticRegression\n",
    "from azureml.core.workspace import Workspace\n",
    "from azureml.core.model import Model"
   ]
  },
  {
   "cell_type": "code",
   "execution_count": null,
   "metadata": {
    "ExecuteTime": {
     "end_time": "2021-03-18T17:17:09.754817Z",
     "start_time": "2021-03-18T17:17:09.657026Z"
    }
   },
   "outputs": [],
   "source": [
    "# Use Service Principal\n",
    "from azureml.core.authentication import ServicePrincipalAuthentication\n",
    "\n",
    "sp = ServicePrincipalAuthentication(tenant_id=os.environ['TENANT_ID'], # tenantID\n",
    "                                    service_principal_id=os.environ['CLIENT_ID'], # clientId\n",
    "                                    service_principal_password=os.environ['CLIENT_SECRET']) # clientSecret\n",
    "\n",
    "ws = Workspace.get(name=os.environ['WORKSPACE_NAME'],\n",
    "                   auth=sp,\n",
    "                   subscription_id=os.environ['SUBSCRIPTION_ID'],\n",
    "                  resource_group=os.environ['RESOURCE_GROUP'])"
   ]
  },
  {
   "cell_type": "code",
   "execution_count": null,
   "metadata": {
    "ExecuteTime": {
     "end_time": "2021-03-18T17:17:09.757276Z",
     "start_time": "2021-03-18T17:17:02.196Z"
    }
   },
   "outputs": [],
   "source": [
    "def score(raw_data, model_name):\n",
    "    # Get predictions and explanations for each data point\n",
    "    data = pd.read_json(raw_data)\n",
    "    \n",
    "    model_path = Model.get_model_path(model_name, version=None, _workspace=ws)\n",
    "\n",
    "    model = joblib.load(model_path)\n",
    "\n",
    "    # Make prediction\n",
    "    predictions = model.predict(data)\n",
    "\n",
    "    # You can return any data type as long as it is JSON-serializable\n",
    "    return {'results': predictions.tolist()}"
   ]
  },
  {
   "cell_type": "markdown",
   "metadata": {},
   "source": [
    "### API"
   ]
  },
  {
   "cell_type": "code",
   "execution_count": null,
   "metadata": {
    "ExecuteTime": {
     "end_time": "2021-03-18T17:17:09.758179Z",
     "start_time": "2021-03-18T17:17:02.197Z"
    }
   },
   "outputs": [],
   "source": [
    "from flask import Flask\n",
    "from flask_restful import Resource, Api, reqparse\n",
    "import pandas as pd\n",
    "app = Flask(__name__)\n",
    "api = Api(app)"
   ]
  },
  {
   "cell_type": "code",
   "execution_count": null,
   "metadata": {
    "ExecuteTime": {
     "end_time": "2021-03-18T17:17:09.758883Z",
     "start_time": "2021-03-18T17:17:02.198Z"
    }
   },
   "outputs": [],
   "source": [
    "parser = reqparse.RequestParser()\n",
    "parser.add_argument('data', location='json')\n",
    "parser.add_argument('model_name', required=True)"
   ]
  },
  {
   "cell_type": "code",
   "execution_count": null,
   "metadata": {
    "ExecuteTime": {
     "end_time": "2021-03-18T17:17:09.759701Z",
     "start_time": "2021-03-18T17:17:02.199Z"
    }
   },
   "outputs": [],
   "source": [
    "class Score(Resource):\n",
    "    def get(self):\n",
    "        data = 'TEST_MESSAGE'\n",
    "        return {'data': data}, 200  # return data and 200 OK code\n",
    "    \n",
    "    def post(self):\n",
    "        args = parser.parse_args()\n",
    "        data = args['data']\n",
    "        model_name = args['model_name']\n",
    "        results = score(data, model_name)\n",
    "        return results, 200  # return data with 200 OK\n"
   ]
  },
  {
   "cell_type": "code",
   "execution_count": null,
   "metadata": {
    "ExecuteTime": {
     "end_time": "2021-03-18T17:16:57.011084Z",
     "start_time": "2021-03-18T17:16:56.832203Z"
    }
   },
   "outputs": [],
   "source": [
    "class HealthCheck(Resource):\n",
    "    def get(self):\n",
    "        details = json.dumps(ws.get_details())\n",
    "        return {'HealthStatus':'Okay', 'WorkspaceDetails': details}, 200"
   ]
  },
  {
   "cell_type": "code",
   "execution_count": null,
   "metadata": {
    "ExecuteTime": {
     "end_time": "2021-03-17T23:10:31.661106Z",
     "start_time": "2021-03-17T23:10:31.656981Z"
    }
   },
   "outputs": [],
   "source": [
    "api.add_resource(Score, '/score')\n",
    "api.add_resource(HealthCheck, '/healthcheck')"
   ]
  },
  {
   "cell_type": "code",
   "execution_count": null,
   "metadata": {
    "ExecuteTime": {
     "end_time": "2021-03-17T23:13:38.807321Z",
     "start_time": "2021-03-17T23:10:32.470881Z"
    }
   },
   "outputs": [],
   "source": [
    "if __name__ == '__main__':\n",
    "    app.run(host='0.0.0.0', port=80)"
   ]
  },
  {
   "cell_type": "code",
   "execution_count": null,
   "metadata": {},
   "outputs": [],
   "source": []
  }
 ],
 "metadata": {
  "kernelspec": {
   "display_name": "hzfairlearn",
   "language": "python",
   "name": "hzfairlearn"
  },
  "language_info": {
   "codemirror_mode": {
    "name": "ipython",
    "version": 3
   },
   "file_extension": ".py",
   "mimetype": "text/x-python",
   "name": "python",
   "nbconvert_exporter": "python",
   "pygments_lexer": "ipython3",
   "version": "3.6.10"
  },
  "toc": {
   "base_numbering": 1,
   "nav_menu": {},
   "number_sections": true,
   "sideBar": true,
   "skip_h1_title": false,
   "title_cell": "Table of Contents",
   "title_sidebar": "Contents",
   "toc_cell": false,
   "toc_position": {},
   "toc_section_display": true,
   "toc_window_display": false
  }
 },
 "nbformat": 4,
 "nbformat_minor": 4
}
